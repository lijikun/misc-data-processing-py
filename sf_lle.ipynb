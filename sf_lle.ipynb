{
 "cells": [
  {
   "cell_type": "code",
   "execution_count": null,
   "metadata": {},
   "outputs": [],
   "source": [
    "import numpy"
   ]
  },
  {
   "cell_type": "code",
   "execution_count": null,
   "metadata": {},
   "outputs": [],
   "source": [
    "import sfdata"
   ]
  },
  {
   "cell_type": "code",
   "execution_count": null,
   "metadata": {},
   "outputs": [],
   "source": [
    "import matplotlib.pyplot as plt"
   ]
  },
  {
   "cell_type": "code",
   "execution_count": null,
   "metadata": {},
   "outputs": [],
   "source": [
    "import sklearn.manifold"
   ]
  },
  {
   "cell_type": "code",
   "execution_count": null,
   "metadata": {},
   "outputs": [],
   "source": [
    "z1, w1, t1 = sfdata.importData('AnAsqJ+0.4mMFe(II)+4mMaKG+0.35mMDHCP+satO2_60s-2.csv')"
   ]
  },
  {
   "cell_type": "code",
   "execution_count": null,
   "metadata": {},
   "outputs": [],
   "source": [
    "z1_, w1_, t1_ = sfdata.spliceData(z1, w1, t1, 315, 545, 0, 10)"
   ]
  },
  {
   "cell_type": "code",
   "execution_count": null,
   "metadata": {},
   "outputs": [],
   "source": [
    "y11, e11 = sklearn.manifold.locally_linear_embedding(z1_.transpose(), 20, 5)"
   ]
  },
  {
   "cell_type": "code",
   "execution_count": null,
   "metadata": {},
   "outputs": [],
   "source": [
    "plt.figure(figsize=(10,7.5)); plt.plot(t1_, y11[:,0], t1_, y11[:,1], t1_, y11[:,2], t1_, y11[:,3], t1_, y11[:,4]); plt.xscale('log'); plt.legend(['Comp1','Comp2','Comp3','Comp4','Comp5'])"
   ]
  },
  {
   "cell_type": "code",
   "execution_count": null,
   "metadata": {},
   "outputs": [],
   "source": [
    "y12, e12 = sklearn.manifold.locally_linear_embedding(z1_, 20, 5)"
   ]
  },
  {
   "cell_type": "code",
   "execution_count": null,
   "metadata": {},
   "outputs": [],
   "source": [
    "plt.figure(figsize=(10,7.5)); plt.plot(w1_, y12[:,0], w1_, y12[:,1], w1_, y12[:,2], w1_, y12[:,3], w1_, y12[:,4]); plt.legend(['Comp1','Comp2','Comp3','Comp4','Comp5'])"
   ]
  },
  {
   "cell_type": "code",
   "execution_count": null,
   "metadata": {},
   "outputs": [],
   "source": [
    "z1, w1, t1 = sfdata.importData('AnAsqJ+0.4mMFe(II)+4mMaKG+0.35mMDHCP+half-satO2_60s-2.csv')"
   ]
  },
  {
   "cell_type": "code",
   "execution_count": null,
   "metadata": {},
   "outputs": [],
   "source": [
    "z1_, w1_, t1_ = sfdata.spliceData(z1, w1, t1, 315, 545, 0, 10)"
   ]
  },
  {
   "cell_type": "code",
   "execution_count": null,
   "metadata": {},
   "outputs": [],
   "source": [
    "y11, e11 = sklearn.manifold.locally_linear_embedding(z1_.transpose(), 20, 5)"
   ]
  },
  {
   "cell_type": "code",
   "execution_count": null,
   "metadata": {},
   "outputs": [],
   "source": [
    "plt.figure(figsize=(10,7.5)); plt.plot(t1_, y11[:,0], t1_, y11[:,1], t1_, y11[:,2], t1_, y11[:,3], t1_, y11[:,4]); plt.xscale('log'); plt.legend(['Comp1','Comp2','Comp3','Comp4','Comp5'])"
   ]
  },
  {
   "cell_type": "code",
   "execution_count": null,
   "metadata": {},
   "outputs": [],
   "source": [
    "y12, e12 = sklearn.manifold.locally_linear_embedding(z1_, 20, 5)"
   ]
  },
  {
   "cell_type": "code",
   "execution_count": null,
   "metadata": {},
   "outputs": [],
   "source": [
    "plt.figure(figsize=(10,7.5)); plt.plot(w1_, y12[:,0], w1_, y12[:,1], w1_, y12[:,2], w1_, y12[:,3], w1_, y12[:,4]); plt.legend(['Comp1','Comp2','Comp3','Comp4','Comp5'])"
   ]
  },
  {
   "cell_type": "code",
   "execution_count": null,
   "metadata": {},
   "outputs": [],
   "source": [
    "z1, w1, t1 = sfdata.importData('AnAsqJ+0.4mMFe(II)+4mMaKG+0.35mMDHCP+4th-satO2_60s-2.csv')"
   ]
  },
  {
   "cell_type": "code",
   "execution_count": null,
   "metadata": {},
   "outputs": [],
   "source": [
    "z1_, w1_, t1_ = sfdata.spliceData(z1, w1, t1, 315, 545, 0, 10)"
   ]
  },
  {
   "cell_type": "code",
   "execution_count": null,
   "metadata": {},
   "outputs": [],
   "source": [
    "y11, e11 = sklearn.manifold.locally_linear_embedding(z1_.transpose(), 20, 5)"
   ]
  },
  {
   "cell_type": "code",
   "execution_count": null,
   "metadata": {},
   "outputs": [],
   "source": [
    "plt.figure(figsize=(10,7.5)); plt.plot(t1_, y11[:,0], t1_, y11[:,1], t1_, y11[:,2], t1_, y11[:,3], t1_, y11[:,4]); plt.xscale('log'); plt.legend(['Comp1','Comp2','Comp3','Comp4','Comp5'])"
   ]
  },
  {
   "cell_type": "code",
   "execution_count": null,
   "metadata": {},
   "outputs": [],
   "source": [
    "y12, e12 = sklearn.manifold.locally_linear_embedding(z1_, 20, 5)"
   ]
  },
  {
   "cell_type": "code",
   "execution_count": null,
   "metadata": {},
   "outputs": [],
   "source": [
    "plt.figure(figsize=(10,7.5)); plt.plot(w1_, y12[:,0], w1_, y12[:,1], w1_, y12[:,2], w1_, y12[:,3], w1_, y12[:,4]); plt.legend(['Comp1','Comp2','Comp3','Comp4','Comp5'])"
   ]
  },
  {
   "cell_type": "code",
   "execution_count": null,
   "metadata": {},
   "outputs": [],
   "source": [
    "z1, w1, t1 = sfdata.importData('AnAsqJ+0.4mMFe(II)+4mMaKG+0.35mMDHCP+8th-satO2_60s-2.csv')"
   ]
  },
  {
   "cell_type": "code",
   "execution_count": null,
   "metadata": {},
   "outputs": [],
   "source": [
    "z1_, w1_, t1_ = sfdata.spliceData(z1, w1, t1, 315, 545, 0, 10)"
   ]
  },
  {
   "cell_type": "code",
   "execution_count": null,
   "metadata": {},
   "outputs": [],
   "source": [
    "y11, e11 = sklearn.manifold.locally_linear_embedding(z1_.transpose(), 20, 5)"
   ]
  },
  {
   "cell_type": "code",
   "execution_count": null,
   "metadata": {},
   "outputs": [],
   "source": [
    "plt.figure(figsize=(10,7.5)); plt.plot(t1_, y11[:,0], t1_, y11[:,1], t1_, y11[:,2], t1_, y11[:,3], t1_, y11[:,4]); plt.xscale('log'); plt.legend(['Comp1','Comp2','Comp3','Comp4','Comp5'])"
   ]
  },
  {
   "cell_type": "code",
   "execution_count": null,
   "metadata": {},
   "outputs": [],
   "source": [
    "y12, e12 = sklearn.manifold.locally_linear_embedding(z1_, 20, 5)"
   ]
  },
  {
   "cell_type": "code",
   "execution_count": null,
   "metadata": {},
   "outputs": [],
   "source": [
    "plt.figure(figsize=(10,7.5)); plt.plot(w1_, y12[:,0], w1_, y12[:,1], w1_, y12[:,2], w1_, y12[:,3], w1_, y12[:,4]); plt.legend(['Comp1','Comp2','Comp3','Comp4','Comp5'])"
   ]
  },
  {
   "cell_type": "code",
   "execution_count": null,
   "metadata": {},
   "outputs": [],
   "source": [
    "z1, w1, t1 = sfdata.importData('AnAsqJ+0.125mMFeII+4mMaKG+0.1mMDHCP-H_60s-2.csv')"
   ]
  },
  {
   "cell_type": "code",
   "execution_count": null,
   "metadata": {},
   "outputs": [],
   "source": [
    "z1_, w1_, t1_ = sfdata.spliceData(z1, w1, t1, 300, 600, 0, 10)"
   ]
  },
  {
   "cell_type": "code",
   "execution_count": null,
   "metadata": {},
   "outputs": [],
   "source": [
    "y11, e11 = sklearn.manifold.locally_linear_embedding(z1_.transpose(), 20, 5)"
   ]
  },
  {
   "cell_type": "code",
   "execution_count": null,
   "metadata": {},
   "outputs": [],
   "source": [
    "plt.figure(figsize=(10,7.5)); plt.plot(t1_, y11[:,0], t1_, y11[:,1], t1_, y11[:,2], t1_, y11[:,3], t1_, y11[:,4]); plt.xscale('log'); plt.legend(['Comp1','Comp2','Comp3','Comp4','Comp5'])"
   ]
  },
  {
   "cell_type": "code",
   "execution_count": null,
   "metadata": {},
   "outputs": [],
   "source": [
    "y12, e12 = sklearn.manifold.locally_linear_embedding(z1_, 20, 5)"
   ]
  },
  {
   "cell_type": "code",
   "execution_count": null,
   "metadata": {},
   "outputs": [],
   "source": [
    "plt.figure(figsize=(10,7.5)); plt.plot(w1_, y12[:,0], w1_, y12[:,1], w1_, y12[:,2], w1_, y12[:,3], w1_, y12[:,4]); plt.legend(['Comp1','Comp2','Comp3','Comp4','Comp5'])"
   ]
  }
 ],
 "metadata": {
  "kernelspec": {
   "display_name": "Python 3",
   "language": "python",
   "name": "python3"
  },
  "language_info": {
   "codemirror_mode": {
    "name": "ipython",
    "version": 3
   },
   "file_extension": ".py",
   "mimetype": "text/x-python",
   "name": "python",
   "nbconvert_exporter": "python",
   "pygments_lexer": "ipython3",
   "version": "3.6.7"
  }
 },
 "nbformat": 4,
 "nbformat_minor": 2
}
